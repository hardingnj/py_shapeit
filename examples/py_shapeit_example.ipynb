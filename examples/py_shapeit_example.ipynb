{
 "metadata": {
  "name": "",
  "signature": "sha256:377d8101182dda8b6cb58d06263fac612d36c01f309739a4c071fb618ec23b2f"
 },
 "nbformat": 3,
 "nbformat_minor": 0,
 "worksheets": [
  {
   "cells": [
    {
     "cell_type": "code",
     "collapsed": false,
     "input": [
      "import shapeit as si"
     ],
     "language": "python",
     "metadata": {},
     "outputs": [],
     "prompt_number": 1
    },
    {
     "cell_type": "code",
     "collapsed": false,
     "input": [
      "si.__version__"
     ],
     "language": "python",
     "metadata": {},
     "outputs": [
      {
       "metadata": {},
       "output_type": "pyout",
       "prompt_number": 2,
       "text": [
        "u'0.2.1'"
       ]
      }
     ],
     "prompt_number": 2
    },
    {
     "cell_type": "code",
     "collapsed": false,
     "input": [
      "ShapeIt = si.shapeit.ShapeIt\n",
      "calc_regions = si.utils.calc_regions"
     ],
     "language": "python",
     "metadata": {},
     "outputs": [],
     "prompt_number": 3
    },
    {
     "cell_type": "code",
     "collapsed": false,
     "input": [
      "from os.path import join, isdir, expanduser\n",
      "from os import mkdir, listdir"
     ],
     "language": "python",
     "metadata": {},
     "outputs": [],
     "prompt_number": 4
    },
    {
     "cell_type": "code",
     "collapsed": false,
     "input": [
      "import h5py"
     ],
     "language": "python",
     "metadata": {},
     "outputs": [],
     "prompt_number": 5
    },
    {
     "cell_type": "code",
     "collapsed": false,
     "input": [
      "# shapeIt examples from authors\n",
      "# follow instructions at:\n",
      "# https://mathgen.stats.ox.ac.uk/genetics_software/shapeit/shapeit.html#download\n",
      "example_directory = expanduser(\"~/example\")\n",
      "listdir(example_directory)"
     ],
     "language": "python",
     "metadata": {},
     "outputs": [
      {
       "metadata": {},
       "output_type": "pyout",
       "prompt_number": 6,
       "text": [
        "['scaffold.haps.sample', 'GLs.vcf.gz', 'scaffold.haps.gz', 'map.txt.gz']"
       ]
      }
     ],
     "prompt_number": 6
    },
    {
     "cell_type": "code",
     "collapsed": false,
     "input": [
      "input_vcf = join(example_directory, 'GLs.vcf.gz')\n",
      "map_file = join(example_directory, 'map.txt.gz')"
     ],
     "language": "python",
     "metadata": {},
     "outputs": [],
     "prompt_number": 7
    },
    {
     "cell_type": "code",
     "collapsed": false,
     "input": [
      "# initialize\n",
      "parameters = ['--thread', 1,\n",
      "              '--noped',\n",
      "              '--window', 0.5,\n",
      "              '--effective-size', 10000,\n",
      "              '-M', map_file,\n",
      "              '--aligned']\n",
      "\n",
      "# the example spans 100,000 bp from 20.00Mb\n",
      "regions = calc_regions(100000, 3, None)\n",
      "regions = [(20000000 + x, 20000000 + y) for x, y in regions]"
     ],
     "language": "python",
     "metadata": {},
     "outputs": [
      {
       "output_type": "stream",
       "stream": "stdout",
       "text": [
        "34445 1666\n"
       ]
      }
     ],
     "prompt_number": 8
    },
    {
     "cell_type": "code",
     "collapsed": false,
     "input": [
      "regions "
     ],
     "language": "python",
     "metadata": {},
     "outputs": [
      {
       "metadata": {},
       "output_type": "pyout",
       "prompt_number": 9,
       "text": [
        "[(20000001, 20034446), (20032780, 20067225), (20065559, 20100004)]"
       ]
      }
     ],
     "prompt_number": 9
    },
    {
     "cell_type": "code",
     "collapsed": false,
     "input": [
      "out_dir = join(example_directory, 'out')\n",
      "\n",
      "if not isdir(out_dir): mkdir(out_dir)"
     ],
     "language": "python",
     "metadata": {},
     "outputs": [],
     "prompt_number": 10
    },
    {
     "cell_type": "markdown",
     "metadata": {},
     "source": [
      "## 1. Run as single job, no pedigree correction"
     ]
    },
    {
     "cell_type": "code",
     "collapsed": false,
     "input": [
      "si_single = ShapeIt(outdir=out_dir,\n",
      "                    ligate_exec=expanduser(\"~/exec/bin/ligateHAPLOTYPES\"), \n",
      "                    duohmm_exec=expanduser(\"~/exec/bin/duohmm\"))"
     ],
     "language": "python",
     "metadata": {},
     "outputs": [],
     "prompt_number": 11
    },
    {
     "cell_type": "code",
     "collapsed": false,
     "input": [
      "si_single.setup_single_job(parameters, '22', input_vcf)"
     ],
     "language": "python",
     "metadata": {},
     "outputs": [],
     "prompt_number": 12
    },
    {
     "cell_type": "code",
     "collapsed": false,
     "input": [
      "si_single.run_single_qsub(si_args=['-l', 'h_vmem=4G,virtual_free=2G'])"
     ],
     "language": "python",
     "metadata": {},
     "outputs": [
      {
       "output_type": "stream",
       "stream": "stdout",
       "text": [
        "Your job 5116160 (\"ShapeIt_9F5E8FC9\") has been submitted\n",
        "\n",
        "Your job 5116161 (\"si2hdf5ShapeIt_9F5E8FC9\") has been submitted\n",
        "\n"
       ]
      }
     ],
     "prompt_number": 14
    },
    {
     "cell_type": "code",
     "collapsed": false,
     "input": [
      "listdir(si_single.outdir)\n",
      "# the yaml document contains the parameter settings etc."
     ],
     "language": "python",
     "metadata": {},
     "outputs": [
      {
       "metadata": {},
       "output_type": "pyout",
       "prompt_number": 15,
       "text": [
        "['shapeit_20032015_17h39m06s_db37bb19-5367-4885-b619-91ab544e44bf.log',\n",
        " 'shapeit_20032015_17h39m06s_db37bb19-5367-4885-b619-91ab544e44bf.snp.mm',\n",
        " 'ShapeIt_9F5E8FC9.yaml',\n",
        " 'ShapeIt_9F5E8FC9.haps.gz',\n",
        " 'log',\n",
        " 'shapeit_20032015_17h39m06s_db37bb19-5367-4885-b619-91ab544e44bf.ind.mm',\n",
        " 'ShapeIt_9F5E8FC9.samples.gz',\n",
        " 'script']"
       ]
      }
     ],
     "prompt_number": 15
    },
    {
     "cell_type": "markdown",
     "metadata": {},
     "source": [
      "## 2. Run as separate regions, no pedigree correction"
     ]
    },
    {
     "cell_type": "code",
     "collapsed": false,
     "input": [
      "si = ShapeIt(outdir=out_dir, \n",
      "             ligate_exec=expanduser(\"~/exec/bin/ligateHAPLOTYPES\"), \n",
      "             duohmm_exec=expanduser(\"~/exec/bin/duohmm\"))"
     ],
     "language": "python",
     "metadata": {},
     "outputs": [],
     "prompt_number": 16
    },
    {
     "cell_type": "code",
     "collapsed": false,
     "input": [
      "si.setup_region_jobs(parameters=parameters, regions=regions, contig='22', vcf_file=input_vcf)"
     ],
     "language": "python",
     "metadata": {},
     "outputs": [],
     "prompt_number": 17
    },
    {
     "cell_type": "code",
     "collapsed": false,
     "input": [
      "si.run_region_qsub(si_args=['-l', 'h_vmem=4G,virtual_free=2G'],\n",
      "                   li_args=['-l', 'h_vmem=4G,virtual_free=2G'])"
     ],
     "language": "python",
     "metadata": {},
     "outputs": [
      {
       "output_type": "stream",
       "stream": "stdout",
       "text": [
        "Your job 5116162 (\"ShapeIt_111328E9\") has been submitted\n",
        "\n",
        "Your job 5116163 (\"ShapeIt_111328E9\") has been submitted\n",
        "\n",
        "Your job 5116164 (\"ShapeIt_111328E9\") has been submitted\n"
       ]
      },
      {
       "output_type": "stream",
       "stream": "stdout",
       "text": [
        "\n",
        "Your job 5116165 (\"ligateShapeIt_111328E9\") has been submitted\n",
        "\n",
        "Your job 5116166 (\"si2hdf5ShapeIt_111328E9\") has been submitted\n"
       ]
      },
      {
       "output_type": "stream",
       "stream": "stdout",
       "text": [
        "\n"
       ]
      }
     ],
     "prompt_number": 18
    },
    {
     "cell_type": "code",
     "collapsed": false,
     "input": [
      "listdir(si.outdir)\n",
      "# the yaml document contains the parameter settings etc."
     ],
     "language": "python",
     "metadata": {},
     "outputs": [
      {
       "metadata": {},
       "output_type": "pyout",
       "prompt_number": 19,
       "text": [
        "['ShapeIt_111328E9.h5',\n",
        " 'ShapeIt_111328E9.haps.gz.ok',\n",
        " 'ShapeIt_111328E9.haps.gz',\n",
        " 'script',\n",
        " 'log',\n",
        " 'region_outputs',\n",
        " 'ShapeIt_111328E9.yaml',\n",
        " 'ShapeIt_111328E9.samples.gz',\n",
        " 'ShapeIt_111328E9.h5.ok']"
       ]
      }
     ],
     "prompt_number": 19
    },
    {
     "cell_type": "code",
     "collapsed": false,
     "input": [
      "# read in phased and ligated file\n",
      "fh = h5py.File(si.h5out, 'r')\n",
      "fh.keys()"
     ],
     "language": "python",
     "metadata": {},
     "outputs": [
      {
       "metadata": {},
       "output_type": "pyout",
       "prompt_number": 20,
       "text": [
        "[u'22']"
       ]
      }
     ],
     "prompt_number": 20
    },
    {
     "cell_type": "code",
     "collapsed": false,
     "input": [
      "print fh['22'].keys()\n",
      "print fh['22']['variants'].keys()"
     ],
     "language": "python",
     "metadata": {},
     "outputs": [
      {
       "output_type": "stream",
       "stream": "stdout",
       "text": [
        "[u'calldata', u'samples', u'variants']\n",
        "[u'ALT', u'ID', u'POS', u'REF']\n"
       ]
      }
     ],
     "prompt_number": 21
    },
    {
     "cell_type": "code",
     "collapsed": false,
     "input": [
      "print fh['22']['calldata'].keys()"
     ],
     "language": "python",
     "metadata": {},
     "outputs": []
    },
    {
     "cell_type": "markdown",
     "metadata": {},
     "source": [
      "## 3. Run as separate regions this time with pedigree correction (duohmm)"
     ]
    },
    {
     "cell_type": "code",
     "collapsed": false,
     "input": [
      "# to follow after obtaining data."
     ],
     "language": "python",
     "metadata": {},
     "outputs": []
    },
    {
     "cell_type": "code",
     "collapsed": false,
     "input": [
      "#with open(si2.duohmm_geno_e) as myfile:\n",
      "#    head = [next(myfile) for x in xrange(6)]\n",
      "#print head"
     ],
     "language": "python",
     "metadata": {},
     "outputs": [],
     "prompt_number": 14
    },
    {
     "cell_type": "markdown",
     "metadata": {},
     "source": [
      "## 4. Run with PIR functionality"
     ]
    },
    {
     "cell_type": "code",
     "collapsed": false,
     "input": [
      "# to do"
     ],
     "language": "python",
     "metadata": {},
     "outputs": []
    }
   ],
   "metadata": {}
  }
 ]
}