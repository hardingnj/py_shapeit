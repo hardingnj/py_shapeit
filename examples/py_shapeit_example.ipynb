{
 "metadata": {
  "name": "",
  "signature": "sha256:096a78bd37b74ca19cdfb63f6c5fd0789fc567a180d8f69871159f2338cdbaf1"
 },
 "nbformat": 3,
 "nbformat_minor": 0,
 "worksheets": [
  {
   "cells": [
    {
     "cell_type": "code",
     "collapsed": false,
     "input": [
      "import shapeit as si"
     ],
     "language": "python",
     "metadata": {},
     "outputs": [],
     "prompt_number": 1
    },
    {
     "cell_type": "code",
     "collapsed": false,
     "input": [
      "si.__version__"
     ],
     "language": "python",
     "metadata": {},
     "outputs": [
      {
       "metadata": {},
       "output_type": "pyout",
       "prompt_number": 2,
       "text": [
        "u'0.2.1'"
       ]
      }
     ],
     "prompt_number": 2
    },
    {
     "cell_type": "code",
     "collapsed": false,
     "input": [
      "ShapeIt = si.shapeit.ShapeIt\n",
      "calc_regions = si.utils.calc_regions"
     ],
     "language": "python",
     "metadata": {},
     "outputs": [],
     "prompt_number": 3
    },
    {
     "cell_type": "code",
     "collapsed": false,
     "input": [
      "from os.path import join, isdir, expanduser\n",
      "from os import mkdir, listdir"
     ],
     "language": "python",
     "metadata": {},
     "outputs": [],
     "prompt_number": 4
    },
    {
     "cell_type": "code",
     "collapsed": false,
     "input": [
      "import h5py"
     ],
     "language": "python",
     "metadata": {},
     "outputs": [],
     "prompt_number": 5
    },
    {
     "cell_type": "code",
     "collapsed": false,
     "input": [
      "# shapeIt examples from authors\n",
      "# follow instructions at:\n",
      "# https://mathgen.stats.ox.ac.uk/genetics_software/shapeit/shapeit.html#download\n",
      "example_directory = expanduser(\"~/example\")\n",
      "listdir(example_directory)"
     ],
     "language": "python",
     "metadata": {},
     "outputs": [
      {
       "metadata": {},
       "output_type": "pyout",
       "prompt_number": 6,
       "text": [
        "['scaffold.haps.sample', 'GLs.vcf.gz', 'scaffold.haps.gz', 'map.txt.gz']"
       ]
      }
     ],
     "prompt_number": 6
    },
    {
     "cell_type": "code",
     "collapsed": false,
     "input": [
      "input_vcf = join(example_directory, 'GLs.vcf.gz')\n",
      "map_file = join(example_directory, 'map.txt.gz')"
     ],
     "language": "python",
     "metadata": {},
     "outputs": [],
     "prompt_number": 7
    },
    {
     "cell_type": "code",
     "collapsed": false,
     "input": [
      "# initialize\n",
      "parameters = ['--thread', 1,\n",
      "              '--noped',\n",
      "              '--window', 0.5,\n",
      "              '--effective-size', 10000,\n",
      "              '-M', map_file,\n",
      "              '--aligned']\n",
      "\n",
      "# the example spans 100,000 bp from 20.00Mb\n",
      "regions = calc_regions(100000, 3, None)\n",
      "regions = [(20000000 + x, 20000000 + y) for x, y in regions]"
     ],
     "language": "python",
     "metadata": {},
     "outputs": [
      {
       "output_type": "stream",
       "stream": "stdout",
       "text": [
        "34445 1666\n"
       ]
      }
     ],
     "prompt_number": 8
    },
    {
     "cell_type": "code",
     "collapsed": false,
     "input": [
      "regions "
     ],
     "language": "python",
     "metadata": {},
     "outputs": [
      {
       "metadata": {},
       "output_type": "pyout",
       "prompt_number": 9,
       "text": [
        "[(20000001, 20034446), (20032780, 20067225), (20065559, 20100004)]"
       ]
      }
     ],
     "prompt_number": 9
    },
    {
     "cell_type": "code",
     "collapsed": false,
     "input": [
      "out_dir = join(example_directory, 'out')\n",
      "\n",
      "if not isdir(out_dir): mkdir(out_dir)"
     ],
     "language": "python",
     "metadata": {},
     "outputs": [],
     "prompt_number": 10
    },
    {
     "cell_type": "markdown",
     "metadata": {},
     "source": [
      "## 1. Run as single job, no pedigree correction"
     ]
    },
    {
     "cell_type": "code",
     "collapsed": false,
     "input": [
      "si_single = ShapeIt(outdir=out_dir,\n",
      "                    ligate_exec=expanduser(\"~/exec/bin/ligateHAPLOTYPES\"), \n",
      "                    duohmm_exec=expanduser(\"~/exec/bin/duohmm\"))"
     ],
     "language": "python",
     "metadata": {},
     "outputs": [],
     "prompt_number": 11
    },
    {
     "cell_type": "code",
     "collapsed": false,
     "input": [
      "si_single.setup_single_job(parameters, '22', input_vcf)"
     ],
     "language": "python",
     "metadata": {},
     "outputs": [],
     "prompt_number": 12
    },
    {
     "cell_type": "code",
     "collapsed": false,
     "input": [
      "si_single.run_single(si_args=['-l', 'h_vmem=4G,virtual_free=2G'])"
     ],
     "language": "python",
     "metadata": {},
     "outputs": [
      {
       "output_type": "stream",
       "stream": "stdout",
       "text": [
        "Your job 5116159 (\"ShapeIt_28EAF470\") has been submitted\n",
        "\n"
       ]
      }
     ],
     "prompt_number": 13
    },
    {
     "cell_type": "code",
     "collapsed": false,
     "input": [
      "listdir(si_single.outdir)\n",
      "# the yaml document contains the parameter settings etc."
     ],
     "language": "python",
     "metadata": {},
     "outputs": [
      {
       "metadata": {},
       "output_type": "pyout",
       "prompt_number": 14,
       "text": [
        "['ShapeIt_28EAF470.yaml',\n",
        " 'ShapeIt_28EAF470.samples.gz',\n",
        " 'shapeit_20032015_17h19m05s_dde8e5cf-354b-4bf7-99f0-b95c07559f48.snp.mm',\n",
        " 'shapeit_20032015_17h19m05s_dde8e5cf-354b-4bf7-99f0-b95c07559f48.log',\n",
        " 'ShapeIt_28EAF470.haps.gz',\n",
        " 'script',\n",
        " 'shapeit_20032015_17h19m05s_dde8e5cf-354b-4bf7-99f0-b95c07559f48.ind.mm',\n",
        " 'log']"
       ]
      }
     ],
     "prompt_number": 14
    },
    {
     "cell_type": "markdown",
     "metadata": {},
     "source": [
      "## 2. Run as separate regions, no pedigree correction"
     ]
    },
    {
     "cell_type": "code",
     "collapsed": false,
     "input": [
      "si = ShapeIt(outdir=out_dir, \n",
      "             ligate_exec=expanduser(\"~/exec/bin/ligateHAPLOTYPES\"), \n",
      "             duohmm_exec=expanduser(\"~/exec/bin/duohmm\"))"
     ],
     "language": "python",
     "metadata": {},
     "outputs": [],
     "prompt_number": 11
    },
    {
     "cell_type": "code",
     "collapsed": false,
     "input": [
      "si.setup_region_jobs(parameters=parameters, regions=regions, contig='22', vcf_file=input_vcf)"
     ],
     "language": "python",
     "metadata": {},
     "outputs": [],
     "prompt_number": 10
    },
    {
     "cell_type": "code",
     "collapsed": false,
     "input": [
      "si.run_region_qsub(si_args=['-l', 'h_vmem=4G,virtual_free=2G'],\n",
      "                   li_args=['-l', 'h_vmem=4G,virtual_free=2G'])"
     ],
     "language": "python",
     "metadata": {},
     "outputs": [
      {
       "output_type": "stream",
       "stream": "stdout",
       "text": [
        "Your job 5116122 (\"ShapeIt_3D727964\") has been submitted\n",
        "\n",
        "Your job 5116123 (\"ShapeIt_3D727964\") has been submitted\n",
        "\n",
        "Your job 5116124 (\"ShapeIt_3D727964\") has been submitted\n",
        "\n",
        "Your job 5116125 (\"ligateShapeIt_3D727964\") has been submitted\n"
       ]
      },
      {
       "output_type": "stream",
       "stream": "stdout",
       "text": [
        "\n",
        "Your job 5116126 (\"si2hdf5ShapeIt_3D727964\") has been submitted\n",
        "\n"
       ]
      }
     ],
     "prompt_number": 11
    },
    {
     "cell_type": "code",
     "collapsed": false,
     "input": [
      "listdir(si.outdir)\n",
      "# the yaml document contains the parameter settings etc."
     ],
     "language": "python",
     "metadata": {},
     "outputs": [
      {
       "metadata": {},
       "output_type": "pyout",
       "prompt_number": 12,
       "text": [
        "['ShapeIt_3D727964.yaml', 'script', 'region_outputs', 'log']"
       ]
      }
     ],
     "prompt_number": 12
    },
    {
     "cell_type": "code",
     "collapsed": false,
     "input": [
      "# read in phased and ligated file\n",
      "fh = h5py.File(si.h5out, 'r')\n",
      "fh.keys()"
     ],
     "language": "python",
     "metadata": {},
     "outputs": [
      {
       "metadata": {},
       "output_type": "pyout",
       "prompt_number": 28,
       "text": [
        "[]"
       ]
      }
     ],
     "prompt_number": 28
    },
    {
     "cell_type": "code",
     "collapsed": false,
     "input": [
      "print fh['22'].keys()\n",
      "print fh['22']['variants']"
     ],
     "language": "python",
     "metadata": {},
     "outputs": [
      {
       "ename": "KeyError",
       "evalue": "\"Unable to open object (Object doesn't exist)\"",
       "output_type": "pyerr",
       "traceback": [
        "\u001b[1;31m---------------------------------------------------------------------------\u001b[0m\n\u001b[1;31mKeyError\u001b[0m                                  Traceback (most recent call last)",
        "\u001b[1;32m<ipython-input-29-3762d96b5499>\u001b[0m in \u001b[0;36m<module>\u001b[1;34m()\u001b[0m\n\u001b[1;32m----> 1\u001b[1;33m \u001b[1;32mprint\u001b[0m \u001b[0mfh\u001b[0m\u001b[1;33m[\u001b[0m\u001b[1;34m'22'\u001b[0m\u001b[1;33m]\u001b[0m\u001b[1;33m.\u001b[0m\u001b[0mkeys\u001b[0m\u001b[1;33m(\u001b[0m\u001b[1;33m)\u001b[0m\u001b[1;33m\u001b[0m\u001b[0m\n\u001b[0m\u001b[0;32m      2\u001b[0m \u001b[1;32mprint\u001b[0m \u001b[0mfh\u001b[0m\u001b[1;33m[\u001b[0m\u001b[1;34m'22'\u001b[0m\u001b[1;33m]\u001b[0m\u001b[1;33m[\u001b[0m\u001b[1;34m'variants'\u001b[0m\u001b[1;33m]\u001b[0m\u001b[1;33m\u001b[0m\u001b[0m\n",
        "\u001b[1;32m/home/njh/pyenv/science/local/lib/python2.7/site-packages/h5py/_hl/group.pyc\u001b[0m in \u001b[0;36m__getitem__\u001b[1;34m(self, name)\u001b[0m\n\u001b[0;32m    151\u001b[0m                 \u001b[1;32mraise\u001b[0m \u001b[0mValueError\u001b[0m\u001b[1;33m(\u001b[0m\u001b[1;34m\"Invalid HDF5 object reference\"\u001b[0m\u001b[1;33m)\u001b[0m\u001b[1;33m\u001b[0m\u001b[0m\n\u001b[0;32m    152\u001b[0m         \u001b[1;32melse\u001b[0m\u001b[1;33m:\u001b[0m\u001b[1;33m\u001b[0m\u001b[0m\n\u001b[1;32m--> 153\u001b[1;33m             \u001b[0moid\u001b[0m \u001b[1;33m=\u001b[0m \u001b[0mh5o\u001b[0m\u001b[1;33m.\u001b[0m\u001b[0mopen\u001b[0m\u001b[1;33m(\u001b[0m\u001b[0mself\u001b[0m\u001b[1;33m.\u001b[0m\u001b[0mid\u001b[0m\u001b[1;33m,\u001b[0m \u001b[0mself\u001b[0m\u001b[1;33m.\u001b[0m\u001b[0m_e\u001b[0m\u001b[1;33m(\u001b[0m\u001b[0mname\u001b[0m\u001b[1;33m)\u001b[0m\u001b[1;33m,\u001b[0m \u001b[0mlapl\u001b[0m\u001b[1;33m=\u001b[0m\u001b[0mself\u001b[0m\u001b[1;33m.\u001b[0m\u001b[0m_lapl\u001b[0m\u001b[1;33m)\u001b[0m\u001b[1;33m\u001b[0m\u001b[0m\n\u001b[0m\u001b[0;32m    154\u001b[0m \u001b[1;33m\u001b[0m\u001b[0m\n\u001b[0;32m    155\u001b[0m         \u001b[0motype\u001b[0m \u001b[1;33m=\u001b[0m \u001b[0mh5i\u001b[0m\u001b[1;33m.\u001b[0m\u001b[0mget_type\u001b[0m\u001b[1;33m(\u001b[0m\u001b[0moid\u001b[0m\u001b[1;33m)\u001b[0m\u001b[1;33m\u001b[0m\u001b[0m\n",
        "\u001b[1;32m/home/njh/pyenv/science/local/lib/python2.7/site-packages/h5py/h5o.so\u001b[0m in \u001b[0;36mh5py.h5o.open (h5py/h5o.c:3390)\u001b[1;34m()\u001b[0m\n",
        "\u001b[1;31mKeyError\u001b[0m: \"Unable to open object (Object doesn't exist)\""
       ]
      }
     ],
     "prompt_number": 29
    },
    {
     "cell_type": "markdown",
     "metadata": {},
     "source": [
      "## 3. Run as separate regions this time with pedigree correction (duohmm)"
     ]
    },
    {
     "cell_type": "code",
     "collapsed": false,
     "input": [
      "# to follow after obtaining data."
     ],
     "language": "python",
     "metadata": {},
     "outputs": []
    },
    {
     "cell_type": "code",
     "collapsed": false,
     "input": [
      "#with open(si2.duohmm_geno_e) as myfile:\n",
      "#    head = [next(myfile) for x in xrange(6)]\n",
      "#print head"
     ],
     "language": "python",
     "metadata": {},
     "outputs": [],
     "prompt_number": 14
    },
    {
     "cell_type": "markdown",
     "metadata": {},
     "source": [
      "## 4. Run with PIR functionality"
     ]
    },
    {
     "cell_type": "code",
     "collapsed": false,
     "input": [
      "# to do"
     ],
     "language": "python",
     "metadata": {},
     "outputs": []
    }
   ],
   "metadata": {}
  }
 ]
}