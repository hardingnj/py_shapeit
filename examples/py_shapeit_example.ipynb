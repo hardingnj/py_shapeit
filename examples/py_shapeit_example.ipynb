{
 "metadata": {
  "name": "",
  "signature": "sha256:d0481e229a388fa425d5e047b0a3b99a82b33e1d3b10bd6097af78ff8b206f66"
 },
 "nbformat": 3,
 "nbformat_minor": 0,
 "worksheets": [
  {
   "cells": [
    {
     "cell_type": "code",
     "collapsed": false,
     "input": [
      "from shapeit.shapeit import ShapeIt\n",
      "from shapeit.utils import calc_regions"
     ],
     "language": "python",
     "metadata": {},
     "outputs": [],
     "prompt_number": 1
    },
    {
     "cell_type": "code",
     "collapsed": false,
     "input": [
      "from os.path import join, isdir, expanduser\n",
      "from os import mkdir, listdir"
     ],
     "language": "python",
     "metadata": {},
     "outputs": [],
     "prompt_number": 5
    },
    {
     "cell_type": "code",
     "collapsed": false,
     "input": [
      "import h5py"
     ],
     "language": "python",
     "metadata": {},
     "outputs": [],
     "prompt_number": 42
    },
    {
     "cell_type": "code",
     "collapsed": false,
     "input": [
      "# shapeIt examples from authors\n",
      "# follow instructions @ https://mathgen.stats.ox.ac.uk/genetics_software/shapeit/shapeit.html#download\n",
      "example_directory = expanduser(\"~/example\")\n",
      "listdir(example_directory)"
     ],
     "language": "python",
     "metadata": {},
     "outputs": [
      {
       "metadata": {},
       "output_type": "pyout",
       "prompt_number": 6,
       "text": [
        "['out', 'scaffold.haps.sample', 'GLs.vcf.gz', 'scaffold.haps.gz', 'map.txt.gz']"
       ]
      }
     ],
     "prompt_number": 6
    },
    {
     "cell_type": "code",
     "collapsed": false,
     "input": [
      "input_vcf = join(example_directory, 'GLs.vcf.gz')\n",
      "map_file = join(example_directory, 'map.txt.gz')"
     ],
     "language": "python",
     "metadata": {},
     "outputs": [],
     "prompt_number": 15
    },
    {
     "cell_type": "code",
     "collapsed": false,
     "input": [
      "# initialize\n",
      "parameters = ['--thread', 1,\n",
      "              '--noped',\n",
      "              '--window', 0.5,\n",
      "              '--effective-size', 10000,\n",
      "              '-M', map_file,\n",
      "              '--aligned']\n",
      "\n",
      "# the example spans 100,000 bp from 20.00Mb\n",
      "regions = calc_regions(100000, 3, None)\n",
      "regions = [(20000000 + x, 20000000 + y) for x, y in regions]"
     ],
     "language": "python",
     "metadata": {},
     "outputs": [
      {
       "output_type": "stream",
       "stream": "stdout",
       "text": [
        "34445 1666\n"
       ]
      },
      {
       "metadata": {},
       "output_type": "pyout",
       "prompt_number": 16,
       "text": [
        "[(20000001, 20034446), (20032780, 20067225), (20065559, 20100004)]"
       ]
      }
     ],
     "prompt_number": 16
    },
    {
     "cell_type": "code",
     "collapsed": false,
     "input": [
      "regions "
     ],
     "language": "python",
     "metadata": {},
     "outputs": [
      {
       "metadata": {},
       "output_type": "pyout",
       "prompt_number": 17,
       "text": [
        "[(20000001, 20034446), (20032780, 20067225), (20065559, 20100004)]"
       ]
      }
     ],
     "prompt_number": 17
    },
    {
     "cell_type": "code",
     "collapsed": false,
     "input": [
      "out_dir = join(example_directory, 'out')\n",
      "\n",
      "if not isdir(out_dir): mkdir(out_dir)"
     ],
     "language": "python",
     "metadata": {},
     "outputs": [],
     "prompt_number": 18
    },
    {
     "cell_type": "markdown",
     "metadata": {},
     "source": [
      "## Run as separate regions, no pedigree correction"
     ]
    },
    {
     "cell_type": "code",
     "collapsed": false,
     "input": [
      "si = ShapeIt(outdir=out_dir)"
     ],
     "language": "python",
     "metadata": {},
     "outputs": [],
     "prompt_number": 19
    },
    {
     "cell_type": "code",
     "collapsed": false,
     "input": [
      "si.setup_region_jobs(parameters=parameters, regions=regions, contig='22', vcf_file=input_vcf)"
     ],
     "language": "python",
     "metadata": {},
     "outputs": [],
     "prompt_number": 20
    },
    {
     "cell_type": "code",
     "collapsed": false,
     "input": [
      "si.run_region_qsub(si_args=['-l', 'h_vmem=4G,virtual_free=2G'],\n",
      "                   li_args=['-l', 'h_vmem=4G,virtual_free=2G'])"
     ],
     "language": "python",
     "metadata": {},
     "outputs": [
      {
       "output_type": "stream",
       "stream": "stdout",
       "text": [
        "Your job 5115800 (\"ShapeIt_023A883F\") has been submitted\n",
        "\n",
        "Your job 5115801 (\"ShapeIt_023A883F\") has been submitted\n",
        "\n",
        "Your job 5115802 (\"ShapeIt_023A883F\") has been submitted\n",
        "\n",
        "Your job 5115803 (\"ligateShapeIt_023A883F\") has been submitted\n"
       ]
      },
      {
       "output_type": "stream",
       "stream": "stdout",
       "text": [
        "\n",
        "Your job 5115804 (\"si2hdf5ShapeIt_023A883F\") has been submitted\n",
        "\n"
       ]
      }
     ],
     "prompt_number": 21
    },
    {
     "cell_type": "code",
     "collapsed": false,
     "input": [
      "listdir(si.outdir)\n",
      "# the yaml document contains the parameter settings etc."
     ],
     "language": "python",
     "metadata": {},
     "outputs": [
      {
       "metadata": {},
       "output_type": "pyout",
       "prompt_number": 39,
       "text": [
        "['log', 'ShapeIt_023A883F.yaml', 'script', 'region_outputs']"
       ]
      }
     ],
     "prompt_number": 39
    },
    {
     "cell_type": "code",
     "collapsed": false,
     "input": [
      "# read in phased and ligated file\n",
      "fh = h5py.File(si.h5out)\n",
      "fh.keys()"
     ],
     "language": "python",
     "metadata": {},
     "outputs": []
    },
    {
     "cell_type": "code",
     "collapsed": false,
     "input": [
      "print fh['22'].keys()\n",
      "print fh['22']['POS'][:]"
     ],
     "language": "python",
     "metadata": {},
     "outputs": []
    },
    {
     "cell_type": "markdown",
     "metadata": {},
     "source": [
      "## Run as separate regions this time with pedigree correction"
     ]
    },
    {
     "cell_type": "code",
     "collapsed": false,
     "input": [
      "sample_f = join(example_directory, 'scaffold.haps.sample')"
     ],
     "language": "python",
     "metadata": {},
     "outputs": [],
     "prompt_number": 32
    },
    {
     "cell_type": "code",
     "collapsed": false,
     "input": [
      "si2 = ShapeIt(outdir=out_dir)"
     ],
     "language": "python",
     "metadata": {},
     "outputs": [],
     "prompt_number": 33
    },
    {
     "cell_type": "code",
     "collapsed": false,
     "input": [
      "si2.setup_region_jobs(parameters=parameters, regions=regions, contig='22',\n",
      "                     vcf_file=input_vcf, pirs=None, \n",
      "                     duohmm=True, sample_file=sample_f)"
     ],
     "language": "python",
     "metadata": {},
     "outputs": [],
     "prompt_number": 34
    },
    {
     "cell_type": "code",
     "collapsed": false,
     "input": [
      "si2.run_region_qsub(si_args=['-l', 'h_vmem=4G,virtual_free=2G'],\n",
      "                   li_args=['-l', 'h_vmem=4G,virtual_free=2G'],\n",
      "                   dm_args=['-l', 'h_vmem=4G, virtual_free=2G'])"
     ],
     "language": "python",
     "metadata": {},
     "outputs": [
      {
       "output_type": "stream",
       "stream": "stdout",
       "text": [
        "Your job 5115809 (\"ShapeIt_BB9D6D13\") has been submitted\n",
        "\n",
        "Your job 5115810 (\"ShapeIt_BB9D6D13\") has been submitted\n",
        "\n",
        "Your job 5115811 (\"ShapeIt_BB9D6D13\") has been submitted\n",
        "\n",
        "Your job 5115812 (\"ligateShapeIt_BB9D6D13\") has been submitted\n"
       ]
      },
      {
       "output_type": "stream",
       "stream": "stdout",
       "text": [
        "\n",
        "Your job 5115813 (\"duohmmShapeIt_BB9D6D13\") has been submitted\n",
        "\n",
        "Your job 5115814 (\"si2hdf5ShapeIt_BB9D6D13\") has been submitted\n"
       ]
      },
      {
       "output_type": "stream",
       "stream": "stdout",
       "text": [
        "\n"
       ]
      }
     ],
     "prompt_number": 35
    },
    {
     "cell_type": "code",
     "collapsed": false,
     "input": [
      "listdir(si2.outdir)"
     ],
     "language": "python",
     "metadata": {},
     "outputs": [
      {
       "metadata": {},
       "output_type": "pyout",
       "prompt_number": 40,
       "text": [
        "['region_outputs', 'script', 'ShapeIt_BB9D6D13.yaml', 'log']"
       ]
      }
     ],
     "prompt_number": 40
    },
    {
     "cell_type": "code",
     "collapsed": false,
     "input": [
      "with open(si2.duohmm_geno_e) as myfile:\n",
      "    head = [next(myfile) for x in xrange(10)]\n",
      "print head"
     ],
     "language": "python",
     "metadata": {},
     "outputs": [
      {
       "ename": "IOError",
       "evalue": "[Errno 2] No such file or directory: '/home/njh/example/out/ShapeIt/v2.r790/ShapeIt_BB9D6D13/ShapeIt_BB9D6D13_duohmm.GE.txt'",
       "output_type": "pyerr",
       "traceback": [
        "\u001b[1;31m---------------------------------------------------------------------------\u001b[0m\n\u001b[1;31mIOError\u001b[0m                                   Traceback (most recent call last)",
        "\u001b[1;32m<ipython-input-41-9c4ad4bcd5f6>\u001b[0m in \u001b[0;36m<module>\u001b[1;34m()\u001b[0m\n\u001b[1;32m----> 1\u001b[1;33m \u001b[1;32mwith\u001b[0m \u001b[0mopen\u001b[0m\u001b[1;33m(\u001b[0m\u001b[0msi2\u001b[0m\u001b[1;33m.\u001b[0m\u001b[0mduohmm_geno_e\u001b[0m\u001b[1;33m)\u001b[0m \u001b[1;32mas\u001b[0m \u001b[0mmyfile\u001b[0m\u001b[1;33m:\u001b[0m\u001b[1;33m\u001b[0m\u001b[0m\n\u001b[0m\u001b[0;32m      2\u001b[0m     \u001b[0mhead\u001b[0m \u001b[1;33m=\u001b[0m \u001b[1;33m[\u001b[0m\u001b[0mnext\u001b[0m\u001b[1;33m(\u001b[0m\u001b[0mmyfile\u001b[0m\u001b[1;33m)\u001b[0m \u001b[1;32mfor\u001b[0m \u001b[0mx\u001b[0m \u001b[1;32min\u001b[0m \u001b[0mxrange\u001b[0m\u001b[1;33m(\u001b[0m\u001b[1;36m10\u001b[0m\u001b[1;33m)\u001b[0m\u001b[1;33m]\u001b[0m\u001b[1;33m\u001b[0m\u001b[0m\n\u001b[0;32m      3\u001b[0m \u001b[1;32mprint\u001b[0m \u001b[0mhead\u001b[0m\u001b[1;33m\u001b[0m\u001b[0m\n",
        "\u001b[1;31mIOError\u001b[0m: [Errno 2] No such file or directory: '/home/njh/example/out/ShapeIt/v2.r790/ShapeIt_BB9D6D13/ShapeIt_BB9D6D13_duohmm.GE.txt'"
       ]
      }
     ],
     "prompt_number": 41
    },
    {
     "cell_type": "markdown",
     "metadata": {},
     "source": [
      "## Run with PIR functionality"
     ]
    },
    {
     "cell_type": "code",
     "collapsed": false,
     "input": [
      "# to do"
     ],
     "language": "python",
     "metadata": {},
     "outputs": []
    }
   ],
   "metadata": {}
  }
 ]
}